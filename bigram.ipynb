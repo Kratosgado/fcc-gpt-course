{
 "cells": [
  {
   "cell_type": "code",
   "execution_count": 10,
   "metadata": {},
   "outputs": [
    {
     "name": "stdout",
     "output_type": "stream",
     "text": [
      "['\\n', ' ', '!', '\"', '&', \"'\", '(', ')', '*', ',', '-', '.', '0', '1', '2', '3', '4', '5', '6', '7', '8', '9', ':', ';', '?', 'A', 'B', 'C', 'D', 'E', 'F', 'G', 'H', 'I', 'J', 'K', 'L', 'M', 'N', 'O', 'P', 'Q', 'R', 'S', 'T', 'U', 'V', 'W', 'X', 'Y', 'Z', '[', ']', '_', 'a', 'b', 'c', 'd', 'e', 'f', 'g', 'h', 'i', 'j', 'k', 'l', 'm', 'n', 'o', 'p', 'q', 'r', 's', 't', 'u', 'v', 'w', 'x', 'y', 'z', '\\ufeff']\n"
     ]
    }
   ],
   "source": [
    "with open('wizard_of_oz.txt', 'r', encoding='utf-8') as f:\n",
    "   text = f.read()\n",
    "chars = sorted(set(text))\n",
    "print(chars)\n",
    "vocab_size = len(chars)\n"
   ]
  },
  {
   "cell_type": "code",
   "execution_count": 11,
   "metadata": {},
   "outputs": [
    {
     "name": "stdout",
     "output_type": "stream",
     "text": [
      "[61, 58, 65, 65, 68]\n",
      "hello\n"
     ]
    }
   ],
   "source": [
    "# tokenize the chars\n",
    "string_to_int = { ch: i for i, ch in enumerate(chars)} # create a dictionary of the characters\n",
    "int_to_string = {i:ch for i, ch in enumerate(chars)} # create a reverse dictionary of the characters\n",
    "encode = lambda words: [string_to_int[char] for char in words]\n",
    "decode = lambda chars: ''.join([int_to_string[char] for char in chars])\n",
    "\n",
    "encode_hello = encode('hello')\n",
    "print(encode_hello)\n",
    "decoded_hello = decode(encode_hello)\n",
    "print(decoded_hello)\n"
   ]
  },
  {
   "cell_type": "code",
   "execution_count": 12,
   "metadata": {},
   "outputs": [],
   "source": [
    "import torch"
   ]
  },
  {
   "cell_type": "markdown",
   "metadata": {},
   "source": [
    "### Using batches to accelerate training process\n"
   ]
  },
  {
   "cell_type": "code",
   "execution_count": 13,
   "metadata": {},
   "outputs": [
    {
     "name": "stdout",
     "output_type": "stream",
     "text": [
      "cpu\n"
     ]
    }
   ],
   "source": [
    "# check if cuda is available in our hardware\n",
    "device = 'cuda' if torch.cuda.is_available() else 'cpu'\n",
    "print(device)\n",
    "block_size = 8 # length of the sequence\n",
    "batch_size = 4 # number of blocks we are processing in parallel\n",
    "max_iters = 10000 # number of iterations\n",
    "learning_rate = 3e-4 # learning rate equivalent to 0.0003\n",
    "eval_iters = 250\n",
    "n_embd = 384 # number of embeddings\n",
    "n_layer = 4 # number of layers"
   ]
  },
  {
   "cell_type": "code",
   "execution_count": 14,
   "metadata": {},
   "outputs": [
    {
     "name": "stdout",
     "output_type": "stream",
     "text": [
      "tensor([80,  1,  1, 28, 39, 42, 39, 44, 32, 49,  1, 25, 38, 28,  1, 44, 32, 29,\n",
      "         1, 47, 33, 50, 25, 42, 28,  1, 33, 38,  1, 39, 50,  0,  0,  1,  1, 26,\n",
      "        49,  0,  0,  1,  1, 36, 11,  1, 30, 42, 25, 38, 35,  1, 26, 25, 45, 37,\n",
      "         0,  0,  1,  1, 25, 45, 44, 32, 39, 42,  1, 39, 30,  1, 44, 32, 29,  1,\n",
      "        47, 33, 50, 25, 42, 28,  1, 39, 30,  1, 39, 50,  9,  1, 44, 32, 29,  1,\n",
      "        36, 25, 38, 28,  1, 39, 30,  1, 39, 50])\n"
     ]
    }
   ],
   "source": [
    "data = torch.tensor(encode(text), dtype=torch.long) # convert the text to a tensor\n",
    "print(data[:100])"
   ]
  },
  {
   "cell_type": "markdown",
   "metadata": {},
   "source": [
    "## Validation and Training Split\n"
   ]
  },
  {
   "cell_type": "code",
   "execution_count": 15,
   "metadata": {},
   "outputs": [
    {
     "name": "stdout",
     "output_type": "stream",
     "text": [
      "inputs:\n",
      "tensor([[67, 78,  1, 73, 58, 58, 73, 61],\n",
      "        [73, 61, 78,  9,  1, 56, 54, 73],\n",
      "        [58, 66, 58, 57,  1, 73, 68,  1],\n",
      "        [69, 68, 62, 67, 73,  1, 76, 54]])\n",
      "target:\n",
      "tensor([[78,  1, 73, 58, 58, 73, 61,  0],\n",
      "        [61, 78,  9,  1, 56, 54, 73, 56],\n",
      "        [66, 58, 57,  1, 73, 68,  1, 69],\n",
      "        [68, 62, 67, 73,  1, 76, 54, 72]])\n"
     ]
    }
   ],
   "source": [
    "train_size = int(0.8 * len(data))\n",
    "train_data = data[:train_size]\n",
    "test_data = data[train_size:]\n",
    "\n",
    "def get_batch(split):\n",
    "    data = train_data if split == 'train' else test_data\n",
    "    ix = torch.randint(len(data) - block_size, (batch_size,))\n",
    "    # print(ix)\n",
    "    x = torch.stack([data[i:i+block_size] for i in ix])\n",
    "    y = torch.stack([data[i+1:i+block_size+1] for i in ix])\n",
    "    x,y = x.to(device), y.to(device)\n",
    "    return x, y\n",
    "\n",
    "x,y = get_batch('train')\n",
    "print(\"inputs:\")\n",
    "# print(x.shape)\n",
    "print(x)\n",
    "print(\"target:\")\n",
    "print(y)"
   ]
  },
  {
   "cell_type": "code",
   "execution_count": 16,
   "metadata": {},
   "outputs": [],
   "source": [
    "@torch.no_grad()\n",
    "def estimate_loss():\n",
    "    out = {}\n",
    "    model.eval()\n",
    "    for split in ['train', 'test']:\n",
    "        losses = torch.zeros(eval_iters)\n",
    "        for k in range(eval_iters):\n",
    "            x, y  = get_batch(split)\n",
    "            logits, loss = model(x, y)\n",
    "            losses[k] = loss.item()\n",
    "        out[split] = losses.mean()\n",
    "    model.train()\n",
    "    return out"
   ]
  },
  {
   "cell_type": "code",
   "execution_count": 17,
   "metadata": {},
   "outputs": [
    {
     "name": "stdout",
     "output_type": "stream",
     "text": [
      "\n",
      "qym﻿z4yPuH!8S;SK*﻿&29LoM*LnL?UZo!\"QdXV_I!D)invqhZ4\n",
      "aZ5ty\"egFL&m﻿nH7FAS(B!PA*OMCihn8XI:Y)eihKyLC9RfVz38_g.Yq.BX9q9CiiZxh8)'MS'Dhx0uQa_7 a3g:-auKBFpc﻿﻿sRjH3i0)yqVkRtW43VdJwYKl3IRp)y&fyzxznrol_UAFpS2]-(73DDxJ!P\n",
      ",W8jano1_gCRlO?hr:AIU4&W&S[fDc2eAxqHS-9fI:ii7Cl*sDF2E]P:pAfolBxT8mxU-xn﻿(aPOffQRzkGQb !f3Hc. 4T8S-\"URa2HZ'QV42cCRYKe2ck.vhsN-gDH7qyB*blpQ;Trm_gCR?wRyE0VyKXro43N!sR5.po_gZ.]\"QN&-xUTd__)ShEIpa3w we2PNsR2EC9JARzxLNq7urJtIA)9 am!-hvXARe2xo!-ut(3)y[EmdSc[O(\n",
      "nJIm*?QGMvi'g-1LgZ(Tr&e8JC9Cpa_)yY7_(N6\n"
     ]
    }
   ],
   "source": [
    "import torch.nn as nn\n",
    "from torch.nn import functional as F \n",
    "\n",
    "class GPTLanguageModel(nn.Module):\n",
    "    def __init__(self, vocab_size) -> None:\n",
    "        super().__init__()\n",
    "        self.token_embeddings_table = nn.Embedding(vocab_size, n_embd)\n",
    "        self.positional_embeddings_table = nn.Embedding(block_size, n_embd)\n",
    "        self.blocks = nn.Sequential(*[Block(n_embd, n_head = n_head) for _ in range(n_layer)])\n",
    "        self.ln_f = nn.LayerNorm(n_embd) # final layer form\n",
    "        self.lm_head = nn.Linear(n_embd, vocab_size)\n",
    "        \n",
    "    def forward(self, index, targets = None):\n",
    "        logits = self.token_embeddings_table(index)\n",
    "        \n",
    "        # idx and targets are both (B, T) tensor of integers\n",
    "        tok_emb = self.token_embeddings_table(index) # (B, T, C)\n",
    "        pos_emb = self.positional_embeddings_table(torch.arange(T, device=device)) # (T, C)\n",
    "        x = tok_emb + pos_emb # (B, T, C)\n",
    "        x = self.blocks(x) # (B, T, C)\n",
    "        x = self.ln_f(x) # (B, T, C)\n",
    "        logits = self.lm_head(x) # (B, T, vocab_size)\n",
    "        \n",
    "        if targets is None:\n",
    "            loss = None\n",
    "        else:\n",
    "            B, T, C = logits.shape\n",
    "            logits = logits.view(B*T, C)\n",
    "            targets = targets.view(B*T) \n",
    "            loss = F.cross_entropy(logits, targets)\n",
    "        \n",
    "        return logits, loss\n",
    "    \n",
    "    def generate(self, index, max_new_tokens):\n",
    "        # index is (B, T) array of indices in the current context\n",
    "        for _ in range(max_new_tokens):\n",
    "            # get the functionos\n",
    "            logits, loss = self.forward(index)\n",
    "            # focus only on the last time step\n",
    "            logits = logits[:,-1,:] # becomes (B,C)\n",
    "            # apply softmax to get probabilities\n",
    "            probs = F.softmax(logits, dim=-1) # becomes (B,C)\n",
    "            # sample from the distribution\n",
    "            index_next = torch.multinomial(probs, num_samples=1) # becomes (B,1)\n",
    "            # append sampled index to the running sequence\n",
    "            index = torch.cat([index, index_next], dim=1) # becomes (B, T+1)\n",
    "        return index\n",
    "\n",
    "model = GPTLanguageModel(vocab_size)\n",
    "m = model.to(device)\n",
    "\n",
    "context = torch.zeros((1,1), dtype=torch.long, device=device)\n",
    "generated_chars = decode(m.generate(context, max_new_tokens=500)[0].tolist())\n",
    "print(generated_chars)"
   ]
  },
  {
   "cell_type": "code",
   "execution_count": 32,
   "metadata": {},
   "outputs": [
    {
     "name": "stdout",
     "output_type": "stream",
     "text": [
      "step: 0, train loss: 2.4226, test loss: 2.4909\n",
      "step: 250, train loss: 2.4314, test loss: 2.5095\n",
      "step: 500, train loss: 2.4075, test loss: 2.4975\n",
      "step: 750, train loss: 2.4081, test loss: 2.4770\n",
      "step: 1000, train loss: 2.4202, test loss: 2.5006\n",
      "step: 1250, train loss: 2.4355, test loss: 2.4934\n",
      "step: 1500, train loss: 2.4263, test loss: 2.5046\n",
      "step: 1750, train loss: 2.4293, test loss: 2.5127\n",
      "step: 2000, train loss: 2.4553, test loss: 2.4489\n",
      "step: 2250, train loss: 2.4395, test loss: 2.4569\n",
      "step: 2500, train loss: 2.4504, test loss: 2.5075\n",
      "step: 2750, train loss: 2.4487, test loss: 2.4802\n",
      "step: 3000, train loss: 2.4566, test loss: 2.4526\n",
      "step: 3250, train loss: 2.4437, test loss: 2.4746\n",
      "step: 3500, train loss: 2.4396, test loss: 2.4823\n",
      "step: 3750, train loss: 2.4275, test loss: 2.5069\n",
      "step: 4000, train loss: 2.4383, test loss: 2.4804\n",
      "step: 4250, train loss: 2.4453, test loss: 2.4777\n",
      "step: 4500, train loss: 2.4343, test loss: 2.4992\n",
      "step: 4750, train loss: 2.4194, test loss: 2.4874\n",
      "step: 5000, train loss: 2.4661, test loss: 2.4834\n",
      "step: 5250, train loss: 2.4177, test loss: 2.4850\n",
      "step: 5500, train loss: 2.3895, test loss: 2.4758\n",
      "step: 5750, train loss: 2.4284, test loss: 2.4916\n",
      "step: 6000, train loss: 2.4161, test loss: 2.4701\n",
      "step: 6250, train loss: 2.4484, test loss: 2.4752\n",
      "step: 6500, train loss: 2.4442, test loss: 2.4683\n",
      "step: 6750, train loss: 2.4142, test loss: 2.4962\n",
      "step: 7000, train loss: 2.4516, test loss: 2.5233\n",
      "step: 7250, train loss: 2.4324, test loss: 2.4840\n",
      "step: 7500, train loss: 2.4466, test loss: 2.4899\n",
      "step: 7750, train loss: 2.4337, test loss: 2.4879\n",
      "step: 8000, train loss: 2.4377, test loss: 2.4875\n",
      "step: 8250, train loss: 2.4432, test loss: 2.4902\n",
      "step: 8500, train loss: 2.4356, test loss: 2.4812\n",
      "step: 8750, train loss: 2.4333, test loss: 2.5108\n",
      "step: 9000, train loss: 2.4333, test loss: 2.4975\n",
      "step: 9250, train loss: 2.4108, test loss: 2.4720\n",
      "step: 9500, train loss: 2.4458, test loss: 2.5086\n",
      "step: 9750, train loss: 2.4315, test loss: 2.4810\n",
      "2.5081751346588135\n"
     ]
    }
   ],
   "source": [
    "# create a PyTorch optimizer\n",
    "optimizer = torch.optim.Adam(model.parameters(), lr=learning_rate)\n",
    "for iter in range(max_iters):\n",
    "    if iter % eval_iters == 0:\n",
    "        losses = estimate_loss()\n",
    "        print(f\"step: {iter}, train loss: {losses['train']:.4f}, test loss: {losses['test']:.4f}\")\n",
    "    # sample a batch of data\n",
    "    xb, yb = get_batch('train')\n",
    "    # evaluate the  loss\n",
    "    logits, loss = model.forward(xb, yb)\n",
    "    optimizer.zero_grad(set_to_none=True)\n",
    "    loss.backward()\n",
    "    optimizer.step()\n",
    "print(loss.item())\n"
   ]
  },
  {
   "cell_type": "markdown",
   "metadata": {},
   "source": [
    "***Need to familiarize ***\n",
    "1. Mean Squared Error(MSE)\n",
    "2. Gradient Descent (GD)\n",
    "3. Momentum\n",
    "4. RMSprop\n",
    "5. Adam\n",
    "6. AdamW"
   ]
  },
  {
   "cell_type": "code",
   "execution_count": 36,
   "metadata": {},
   "outputs": [
    {
     "name": "stdout",
     "output_type": "stream",
     "text": [
      "tensor([-0.0476])\n"
     ]
    }
   ],
   "source": [
    "context = torch.zeros((1,1), dtype=torch.long, device=device)\n",
    "generated_chars = decode(m.generate(context, max_new_tokens=500)[0].tolist())\n",
    "print(generated_chars)"
   ]
  },
  {
   "cell_type": "code",
   "execution_count": null,
   "metadata": {},
   "outputs": [],
   "source": []
  }
 ],
 "metadata": {
  "kernelspec": {
   "display_name": "base",
   "language": "python",
   "name": "python3"
  },
  "language_info": {
   "codemirror_mode": {
    "name": "ipython",
    "version": 3
   },
   "file_extension": ".py",
   "mimetype": "text/x-python",
   "name": "python",
   "nbconvert_exporter": "python",
   "pygments_lexer": "ipython3",
   "version": "3.11.5"
  }
 },
 "nbformat": 4,
 "nbformat_minor": 2
}
